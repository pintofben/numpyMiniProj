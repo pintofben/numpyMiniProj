{
  "nbformat": 4,
  "nbformat_minor": 0,
  "metadata": {
    "colab": {
      "provenance": [],
      "authorship_tag": "ABX9TyPA7FjHu7UWqHGDE4vwrG1x",
      "include_colab_link": true
    },
    "kernelspec": {
      "name": "python3",
      "display_name": "Python 3"
    },
    "language_info": {
      "name": "python"
    }
  },
  "cells": [
    {
      "cell_type": "markdown",
      "metadata": {
        "id": "view-in-github",
        "colab_type": "text"
      },
      "source": [
        "<a href=\"https://colab.research.google.com/github/pintofben/numpyMiniProj/blob/main/TutorialCode.ipynb\" target=\"_parent\"><img src=\"https://colab.research.google.com/assets/colab-badge.svg\" alt=\"Open In Colab\"/></a>"
      ]
    },
    {
      "cell_type": "code",
      "execution_count": 22,
      "metadata": {
        "id": "dDZxBuPXRdcm",
        "colab": {
          "base_uri": "https://localhost:8080/"
        },
        "outputId": "606e8aa7-e5b8-4949-f5a2-b0a22d8e5a35"
      },
      "outputs": [
        {
          "output_type": "stream",
          "name": "stdout",
          "text": [
            "Pi: 3.36, memory: 2.2351741790771484e-06 GiB, time: 0.000287 s, Number of Samples: 100, Relative Error: 0.06952121757753665\n",
            "Pi: 3.08, memory: 2.2351741790771484e-05 GiB, time: 0.000165 s, Number of Samples: 1000, Relative Error: 0.01960555055392467\n",
            "Pi: 3.1396, memory: 0.00022351741790771484 GiB, time: 0.000581 s, Number of Samples: 10000, Relative Error: 0.0006342813373707151\n",
            "Pi: 3.13936, memory: 0.0022351741790771484 GiB, time: 0.006094 s, Number of Samples: 100000, Relative Error: 0.0007106757100549013\n",
            "Pi: 3.141456, memory: 0.022351741790771484 GiB, time: 0.089529 s, Number of Samples: 1000000, Relative Error: 4.349818861371552e-05\n",
            "Pi: 3.1419624, memory: 0.22351741790771484 GiB, time: 0.872769 s, Number of Samples: 10000000, Relative Error: 0.00011769393774986782\n",
            "Pi: 3.14184156, memory: 2.2351741790771484 GiB, time: 5.554913 s, Number of Samples: 100000000, Relative Error: 7.922937110337973e-05\n"
          ]
        }
      ],
      "source": [
        "import numpy as np\n",
        "import sys\n",
        "import datetime\n",
        "import math as ma\n",
        "\n",
        "def inside_circle(total_count):\n",
        "  x = np.random.uniform(size=total_count)\n",
        "  y = np.random.uniform(size=total_count)\n",
        "  radii = np.sqrt(x**2 + y**2)\n",
        "  count = len(radii[np.where(radii<=1.0)])\n",
        "  return count\n",
        "\n",
        "def main():\n",
        "  for n_samples in [10**i for i in range(2, 9)]:\n",
        "    start_time = datetime.datetime.now()\n",
        "    counts = inside_circle(n_samples)\n",
        "    my_pi = 4.0 * counts / n_samples\n",
        "    end_time = datetime.datetime.now()\n",
        "    elapsed_time = (end_time - start_time).total_seconds()\n",
        "    size_of_float = np.dtype(np.float64).itemsize\n",
        "    memory_required = 3 * n_samples * size_of_float / (1024**3)\n",
        "    rel_Error = abs(ma.pi - my_pi) / ma.pi\n",
        "    monte_array = np.array( [] )\n",
        "    monte_array = np.append(monte_array, [n_samples, elapsed_time, my_pi, memory_required, rel_Error])\n",
        "\n",
        "    print(\"Pi: {}, memory: {} GiB, time: {} s, Number of Samples: {}, Relative Error: {}\".format(my_pi, memory_required,\n",
        "                                                  elapsed_time, n_samples, rel_Error))\n",
        "  monte_array = monte_array.reshape(-1,5)\n",
        "\n",
        "  np.savetxt(\"monte_array.csv\", monte_array, delimiter=\",\")\n",
        "\n",
        "if __name__ == '__main__':\n",
        "  main()"
      ]
    },
    {
      "cell_type": "markdown",
      "source": [
        "1. How much more accurate does the estimate of π become as N is\n",
        "increased?  When N is increased by a factor of 10, does the error\n",
        "decrease by a factor of 10?\n",
        "\n",
        "\n",
        "2. How does the amount of memory required scale as N is increased?  \n",
        "Do you expect that it would be linear?  How would the slope of the\n",
        "trendline in the log-log plot demonstrate that?\n",
        "\n",
        "3. How does the amount of time to calculate scale as N is increased?  \n",
        "Do you expect that it would be linear?  How would the slope of the\n",
        "trendline in the log-log plot demonstrate that?"
      ],
      "metadata": {
        "id": "7ocbAwDN2Jxm"
      }
    },
    {
      "cell_type": "code",
      "source": [],
      "metadata": {
        "id": "r7WGxSmc2Lih"
      },
      "execution_count": null,
      "outputs": []
    }
  ]
}