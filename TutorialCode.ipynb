{
  "nbformat": 4,
  "nbformat_minor": 0,
  "metadata": {
    "colab": {
      "provenance": [],
      "authorship_tag": "ABX9TyMQ3clnGJ5NDjexx+dRymlm",
      "include_colab_link": true
    },
    "kernelspec": {
      "name": "python3",
      "display_name": "Python 3"
    },
    "language_info": {
      "name": "python"
    }
  },
  "cells": [
    {
      "cell_type": "markdown",
      "metadata": {
        "id": "view-in-github",
        "colab_type": "text"
      },
      "source": [
        "<a href=\"https://colab.research.google.com/github/pintofben/numpyMiniProj/blob/main/TutorialCode.ipynb\" target=\"_parent\"><img src=\"https://colab.research.google.com/assets/colab-badge.svg\" alt=\"Open In Colab\"/></a>"
      ]
    },
    {
      "cell_type": "code",
      "execution_count": 8,
      "metadata": {
        "id": "dDZxBuPXRdcm",
        "colab": {
          "base_uri": "https://localhost:8080/"
        },
        "outputId": "f03ab016-df56-4556-e77c-eeca8f755bbe"
      },
      "outputs": [
        {
          "output_type": "stream",
          "name": "stdout",
          "text": [
            "Pi: 2.96, memory: 2.2351741790771484e-06 GiB, time: 0.000172 s, Number of Samples: 100, Relative Error: 0.05780273689597959\n",
            "Pi: 3.1, memory: 2.2351741790771484e-05 GiB, time: 0.000738 s, Number of Samples: 1000, Relative Error: 0.013239352830248852\n",
            "Pi: 3.1304, memory: 0.00022351741790771484 GiB, time: 0.00061 s, Number of Samples: 10000, Relative Error: 0.003562732290261691\n",
            "Pi: 3.13812, memory: 0.0022351741790771484 GiB, time: 0.005255 s, Number of Samples: 100000, Relative Error: 0.001105379968922843\n",
            "Pi: 3.14008, memory: 0.022351741790771484 GiB, time: 0.042558 s, Number of Samples: 1000000, Relative Error: 0.0004814925920024841\n",
            "Pi: 3.1417288, memory: 0.22351741790771484 GiB, time: 0.423453 s, Number of Samples: 10000000, Relative Error: 4.3336748337316485e-05\n",
            "Pi: 3.1418908, memory: 2.2351741790771484 GiB, time: 4.361819 s, Number of Samples: 100000000, Relative Error: 9.490294989908914e-05\n"
          ]
        }
      ],
      "source": [
        "import numpy as np\n",
        "import sys\n",
        "import datetime\n",
        "import math as ma\n",
        "import matplotlib.pyplot as plt\n",
        "\n",
        "def inside_circle(total_count):\n",
        "  x = np.random.uniform(size=total_count)\n",
        "  y = np.random.uniform(size=total_count)\n",
        "  radii = np.sqrt(x**2 + y**2)\n",
        "  count = len(radii[np.where(radii<=1.0)])\n",
        "  return count\n",
        "\n",
        "def main():\n",
        "  for n_samples in [10**i for i in range(2, 9)]:\n",
        "    start_time = datetime.datetime.now()\n",
        "    counts = inside_circle(n_samples)\n",
        "    my_pi = 4.0 * counts / n_samples\n",
        "    end_time = datetime.datetime.now()\n",
        "    elapsed_time = (end_time - start_time).total_seconds()\n",
        "    size_of_float = np.dtype(np.float64).itemsize\n",
        "    memory_required = 3 * n_samples * size_of_float / (1024**3)\n",
        "    rel_Error = abs(ma.pi - my_pi) / ma.pi\n",
        "    monte_array = np.array( [] )\n",
        "    monte_array = np.append(monte_array, [n_samples, elapsed_time, my_pi, memory_required, rel_Error])\n",
        "\n",
        "    print(\"Pi: {}, memory: {} GiB, time: {} s, Number of Samples: {}, Relative Error: {}\".format(my_pi, memory_required,\n",
        "                                                  elapsed_time, n_samples, rel_Error))\n",
        "  monte_array = monte_array.reshape(-1,5)\n",
        "\n",
        "  np.savetxt(\"monte_array.csv\", monte_array, delimiter=\",\")\n",
        "\n",
        "if __name__ == '__main__':\n",
        "  main()"
      ]
    },
    {
      "cell_type": "code",
      "source": [
        "f = open('monte_array.csv', 'w', newline='')\n",
        "writer = csv.writer(f)\n",
        "row = [my_pi, my-memory_required, elapsed_time, n_samples, relative_error]\n",
        "writer.writerow(row)"
      ],
      "metadata": {
        "colab": {
          "base_uri": "https://localhost:8080/",
          "height": 193
        },
        "id": "ZgPy0TVyzYMH",
        "outputId": "a91ad974-5552-4ee0-b44c-04d767195011"
      },
      "execution_count": 9,
      "outputs": [
        {
          "output_type": "error",
          "ename": "NameError",
          "evalue": "name 'csv' is not defined",
          "traceback": [
            "\u001b[0;31m---------------------------------------------------------------------------\u001b[0m",
            "\u001b[0;31mNameError\u001b[0m                                 Traceback (most recent call last)",
            "\u001b[0;32m<ipython-input-9-9012c3843c75>\u001b[0m in \u001b[0;36m<cell line: 0>\u001b[0;34m()\u001b[0m\n\u001b[1;32m      1\u001b[0m \u001b[0mf\u001b[0m \u001b[0;34m=\u001b[0m \u001b[0mopen\u001b[0m\u001b[0;34m(\u001b[0m\u001b[0;34m'monte_array.csv'\u001b[0m\u001b[0;34m,\u001b[0m \u001b[0;34m'w'\u001b[0m\u001b[0;34m,\u001b[0m \u001b[0mnewline\u001b[0m\u001b[0;34m=\u001b[0m\u001b[0;34m''\u001b[0m\u001b[0;34m)\u001b[0m\u001b[0;34m\u001b[0m\u001b[0;34m\u001b[0m\u001b[0m\n\u001b[0;32m----> 2\u001b[0;31m \u001b[0mwriter\u001b[0m \u001b[0;34m=\u001b[0m \u001b[0mcsv\u001b[0m\u001b[0;34m.\u001b[0m\u001b[0mwriter\u001b[0m\u001b[0;34m(\u001b[0m\u001b[0mf\u001b[0m\u001b[0;34m)\u001b[0m\u001b[0;34m\u001b[0m\u001b[0;34m\u001b[0m\u001b[0m\n\u001b[0m\u001b[1;32m      3\u001b[0m \u001b[0mrow\u001b[0m \u001b[0;34m=\u001b[0m \u001b[0;34m[\u001b[0m\u001b[0mmy_pi\u001b[0m\u001b[0;34m,\u001b[0m \u001b[0mmy\u001b[0m\u001b[0;34m-\u001b[0m\u001b[0mmemory_required\u001b[0m\u001b[0;34m,\u001b[0m \u001b[0melapsed_time\u001b[0m\u001b[0;34m,\u001b[0m \u001b[0mn_samples\u001b[0m\u001b[0;34m,\u001b[0m \u001b[0mrelative_error\u001b[0m\u001b[0;34m]\u001b[0m\u001b[0;34m\u001b[0m\u001b[0;34m\u001b[0m\u001b[0m\n\u001b[1;32m      4\u001b[0m \u001b[0mwriter\u001b[0m\u001b[0;34m.\u001b[0m\u001b[0mwriterow\u001b[0m\u001b[0;34m(\u001b[0m\u001b[0mrow\u001b[0m\u001b[0;34m)\u001b[0m\u001b[0;34m\u001b[0m\u001b[0;34m\u001b[0m\u001b[0m\n",
            "\u001b[0;31mNameError\u001b[0m: name 'csv' is not defined"
          ]
        }
      ]
    },
    {
      "cell_type": "code",
      "source": [
        "fig, ax = plt.subplots()\n",
        "\n",
        "ax.scatter(x=monte_array[:,3], y=monte_array[:,4])\n",
        "\n",
        "ax.set_title(\"Number of Samples compared to Relative Error\")\n",
        "ax.set_xlabel(\"Number of Samples\")\n",
        "ax.set_ylabel(\"Reative Error\")"
      ],
      "metadata": {
        "id": "r7WGxSmc2Lih",
        "colab": {
          "base_uri": "https://localhost:8080/",
          "height": 629
        },
        "outputId": "1cc13665-175c-453f-a552-08b0880382ee"
      },
      "execution_count": 6,
      "outputs": [
        {
          "output_type": "error",
          "ename": "NameError",
          "evalue": "name 'monte_array' is not defined",
          "traceback": [
            "\u001b[0;31m---------------------------------------------------------------------------\u001b[0m",
            "\u001b[0;31mNameError\u001b[0m                                 Traceback (most recent call last)",
            "\u001b[0;32m<ipython-input-6-cc4b3fab1d47>\u001b[0m in \u001b[0;36m<cell line: 0>\u001b[0;34m()\u001b[0m\n\u001b[1;32m      1\u001b[0m \u001b[0mfig\u001b[0m\u001b[0;34m,\u001b[0m \u001b[0max\u001b[0m \u001b[0;34m=\u001b[0m \u001b[0mplt\u001b[0m\u001b[0;34m.\u001b[0m\u001b[0msubplots\u001b[0m\u001b[0;34m(\u001b[0m\u001b[0;34m)\u001b[0m\u001b[0;34m\u001b[0m\u001b[0;34m\u001b[0m\u001b[0m\n\u001b[1;32m      2\u001b[0m \u001b[0;34m\u001b[0m\u001b[0m\n\u001b[0;32m----> 3\u001b[0;31m \u001b[0max\u001b[0m\u001b[0;34m.\u001b[0m\u001b[0mscatter\u001b[0m\u001b[0;34m(\u001b[0m\u001b[0mx\u001b[0m\u001b[0;34m=\u001b[0m\u001b[0mmonte_array\u001b[0m\u001b[0;34m[\u001b[0m\u001b[0;34m:\u001b[0m\u001b[0;34m,\u001b[0m\u001b[0;36m3\u001b[0m\u001b[0;34m]\u001b[0m\u001b[0;34m,\u001b[0m \u001b[0my\u001b[0m\u001b[0;34m=\u001b[0m\u001b[0mmonte_array\u001b[0m\u001b[0;34m[\u001b[0m\u001b[0;34m:\u001b[0m\u001b[0;34m,\u001b[0m\u001b[0;36m4\u001b[0m\u001b[0;34m]\u001b[0m\u001b[0;34m)\u001b[0m\u001b[0;34m\u001b[0m\u001b[0;34m\u001b[0m\u001b[0m\n\u001b[0m\u001b[1;32m      4\u001b[0m \u001b[0;34m\u001b[0m\u001b[0m\n\u001b[1;32m      5\u001b[0m \u001b[0max\u001b[0m\u001b[0;34m.\u001b[0m\u001b[0mset_title\u001b[0m\u001b[0;34m(\u001b[0m\u001b[0;34m\"Number of Samples compared to Relative Error\"\u001b[0m\u001b[0;34m)\u001b[0m\u001b[0;34m\u001b[0m\u001b[0;34m\u001b[0m\u001b[0m\n",
            "\u001b[0;31mNameError\u001b[0m: name 'monte_array' is not defined"
          ]
        },
        {
          "output_type": "display_data",
          "data": {
            "text/plain": [
              "<Figure size 640x480 with 1 Axes>"
            ],
            "image/png": "[encoded data removed]"
          },
          "metadata": {}
        }
      ]
    },
    {
      "cell_type": "markdown",
      "source": [
        "1. How much more accurate does the estimate of π become as N is\n",
        "increased?  When N is increased by a factor of 10, does the error\n",
        "decrease by a factor of 10?\n",
        "\n",
        "*   the more estimations of pi that are added by a larger n makes the estimation of pi more accurate as it becomes closer and closer to the exact decimal of pi. because the x and y are randomized decimals, it is not get closer to the exact decimal by an exact factor of 10.\n",
        "\n",
        "2. How does the amount of memory required scale as N is increased?  \n",
        "Do you expect that it would be linear?  How would the slope of the\n",
        "trendline in the log-log plot demonstrate that?\n",
        "\n",
        "*   It does seem like the memory gets larger by a factor of 10 everytime the number of samples increases by a factor of 10. I would expect this to be linear, even though its not, because I would expect every samples output would take up the same amount as the previous.\n",
        "\n",
        "3. How does the amount of time to calculate scale as N is increased?  \n",
        "Do you expect that it would be linear?  How would the slope of the\n",
        "trendline in the log-log plot demonstrate that?\n",
        "\n",
        "*   \n"
      ],
      "metadata": {
        "id": "7ocbAwDN2Jxm"
      }
    }
  ]
}